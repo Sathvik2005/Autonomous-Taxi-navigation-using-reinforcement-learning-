{
 "cells": [
  {
   "cell_type": "code",
   "execution_count": 11,
   "id": "21092a6a-7fe0-49a8-9eee-8cd5535bb5dd",
   "metadata": {},
   "outputs": [],
   "source": [
    "import gym\n",
    "import numpy as np\n",
    "import imageio\n",
    "import matplotlib.pyplot as plt\n",
    "from collections import defaultdict"
   ]
  },
  {
   "cell_type": "code",
   "execution_count": 12,
   "id": "03dd7a53-9e88-4a85-b1d4-5c826e334bca",
   "metadata": {},
   "outputs": [
    {
     "name": "stdout",
     "output_type": "stream",
     "text": [
      "State space: 500\n",
      "Action space: 6\n"
     ]
    }
   ],
   "source": [
    "# Initialize Environment\n",
    "env = gym.make(\"Taxi-v3\", render_mode=\"rgb_array\")\n",
    "num_states = env.observation_space.n\n",
    "num_actions = env.action_space.n\n",
    "\n",
    "print(\"State space:\", num_states)\n",
    "print(\"Action space:\", num_actions)"
   ]
  },
  {
   "cell_type": "code",
   "execution_count": 13,
   "id": "502cb9e8-17e9-4b06-bdd6-874c2486f345",
   "metadata": {},
   "outputs": [],
   "source": [
    "#  Monte Carlo Control with Exploring Starts\n",
    "def monte_carlo_control(env, num_episodes=50, gamma=0.99, epsilon=0.1):\n",
    "    \"\"\"Monte Carlo Control using Exploring Starts\"\"\"\n",
    "    Q = defaultdict(lambda: np.zeros(num_actions))  # Action-value function\n",
    "    returns = defaultdict(list)\n",
    "\n",
    "    for episode in range(num_episodes):\n",
    "        state, _ = env.reset()\n",
    "        done = False\n",
    "        episode_data = []\n",
    "\n",
    "        # Generate an episode\n",
    "        while not done:\n",
    "            action = np.random.choice(num_actions) if np.random.rand() < epsilon else np.argmax(Q[state])\n",
    "            next_state, reward, done, _, _ = env.step(action)\n",
    "            episode_data.append((state, action, reward))\n",
    "            state = next_state\n",
    "\n",
    "        # Compute returns and update Q-values\n",
    "        G = 0\n",
    "        visited = set()\n",
    "        for state, action, reward in reversed(episode_data):\n",
    "            G = gamma * G + reward\n",
    "            if (state, action) not in visited:\n",
    "                visited.add((state, action))\n",
    "                returns[(state, action)].append(G)\n",
    "                Q[state][action] = np.mean(returns[(state, action)])\n",
    "\n",
    "    # Extract optimal policy\n",
    "    policy = {s: np.argmax(Q[s]) for s in range(num_states)}\n",
    "    return policy\n"
   ]
  },
  {
   "cell_type": "code",
   "execution_count": 14,
   "id": "2a34b952-cd7f-4b07-a9c7-e7b5848dbe19",
   "metadata": {},
   "outputs": [],
   "source": [
    "# Dynamic Programming - Policy Iteration\n",
    "def policy_iteration(env, gamma=0.99, theta=1e-6):\n",
    "    \"\"\"Dynamic Programming - Policy Iteration\"\"\"\n",
    "    policy = np.random.choice(num_actions, size=num_states)\n",
    "    V = np.zeros(num_states)\n",
    "\n",
    "    while True:\n",
    "        # Policy Evaluation\n",
    "        while True:\n",
    "            delta = 0\n",
    "            for s in range(num_states):\n",
    "                v = V[s]\n",
    "                a = policy[s]\n",
    "                V[s] = sum(prob * (reward + gamma * V[next_s])\n",
    "                           for prob, next_s, reward, _ in env.P[s][a])\n",
    "                delta = max(delta, abs(v - V[s]))\n",
    "            if delta < theta:\n",
    "                break\n",
    "\n",
    "        # Policy Improvement\n",
    "        policy_stable = True\n",
    "        for s in range(num_states):\n",
    "            old_action = policy[s]\n",
    "            action_values = [sum(prob * (reward + gamma * V[next_s])\n",
    "                                 for prob, next_s, reward, _ in env.P[s][a]) for a in range(num_actions)]\n",
    "            policy[s] = np.argmax(action_values)\n",
    "            if old_action != policy[s]:\n",
    "                policy_stable = False\n",
    "\n",
    "        if policy_stable:\n",
    "            break\n",
    "\n",
    "    return policy\n"
   ]
  },
  {
   "cell_type": "code",
   "execution_count": null,
   "id": "c3a10919-7fc7-425d-89af-477e6d9e907c",
   "metadata": {},
   "outputs": [
    {
     "name": "stdout",
     "output_type": "stream",
     "text": [
      "\n",
      "Training Monte Carlo Policy...\n"
     ]
    }
   ],
   "source": [
    "#  Train Monte Carlo & Dynamic Programming Policies\n",
    "print(\"\\nTraining Monte Carlo Policy...\")\n",
    "mc_policy = monte_carlo_control(env)\n",
    "print(\"Monte Carlo Training Complete.\")"
   ]
  },
  {
   "cell_type": "code",
   "execution_count": null,
   "id": "a3d1eb54-cc74-4984-ab95-ac67c2602341",
   "metadata": {},
   "outputs": [],
   "source": [
    "import gym\n",
    "import numpy as np\n",
    "import random\n",
    "import time\n",
    "import pickle\n",
    "from collections import defaultdict\n",
    "\n",
    "def monte_carlo_control(env, num_episodes=5, gamma=0.99, epsilon=0.1):\n",
    "    \"\"\"Monte Carlo Control using Exploring Starts\"\"\"\n",
    "    Q = defaultdict(lambda: np.zeros(env.action_space.n))  # Action-value function\n",
    "    returns = defaultdict(list)\n",
    "\n",
    "    for episode in range(num_episodes):\n",
    "        state, _ = env.reset()\n",
    "        done = False\n",
    "        episode_data = []\n",
    "\n",
    "        # Generate an episode\n",
    "        while not done:\n",
    "            action = np.random.choice(env.action_space.n) if np.random.rand() < epsilon else np.argmax(Q[state])\n",
    "            next_state, reward, terminated, truncated, _ = env.step(action)\n",
    "            done = terminated or truncatedy66\n",
    "            episode_data.append((state, action, reward))\n",
    "            state = next_state\n",
    "\n",
    "        # Compute returns and update Q-values\n",
    "        G = 0\n",
    "        visited = set()\n",
    "        for state, action, reward in reversed(episode_data):\n",
    "            G = gamma * G + reward\n",
    "            if (state, action) not in visited:\n",
    "                visited.add((state, action))\n",
    "                returns[(state, action)].append(G)\n",
    "                Q[state][action] = np.mean(returns[(state, action)])\n",
    "\n",
    "    # Extract optimal policy\n",
    "    policy = {s: np.argmax(Q[s]) for s in range(env.observation_space.n)}\n",
    "    return policy\n",
    "\n",
    "# Initialize Environment\n",
    "env = gym.make(\"Taxi-v3\")\n",
    "print(\"\\nTraining Monte Carlo Policy...\")\n",
    "mc_policy = monte_carlo_control(env)\n",
    "print(\"Monte Carlo Training Complete.\")\n"
   ]
  },
  {
   "cell_type": "code",
   "execution_count": null,
   "id": "8e109a3f-026c-4b50-b0fb-e26888cf6d4f",
   "metadata": {},
   "outputs": [],
   "source": [
    "print(\"\\nTraining Dynamic Programming Policy...\")\n",
    "dp_policy = policy_iteration(env)\n",
    "print(\"Dynamic Programming Training Complete.\")"
   ]
  },
  {
   "cell_type": "code",
   "execution_count": null,
   "id": "e4171bdd-c8f9-4183-971a-b194d2f24d6a",
   "metadata": {},
   "outputs": [],
   "source": [
    "# Test the Policies\n",
    "def test_policy(env, policy, num_episodes=5):\n",
    "    \"\"\"Runs a given policy on the environment\"\"\"\n",
    "    for episode in range(num_episodes):\n",
    "        state, _ = env.reset()\n",
    "        done = False\n",
    "        total_reward = 0\n",
    "\n",
    "        while not done:\n",
    "            action = policy[state]  # Select action based on learned policy\n",
    "            state, reward, done, _, _ = env.step(action)\n",
    "            total_reward += reward\n",
    "\n",
    "        print(f\"Episode {episode + 1}: Total Reward = {total_reward}\")\n",
    "\n",
    "\n"
   ]
  },
  {
   "cell_type": "code",
   "execution_count": null,
   "id": "5ff9719e-9093-4e6b-8a53-360ce1109fd1",
   "metadata": {},
   "outputs": [],
   "source": [
    "print(\"\\nTesting Monte Carlo Policy...\")\n",
    "test_policy(env, mc_policy)\n",
    "\n",
    "print(\"\\nTesting Dynamic Programming Policy...\")\n",
    "test_policy(env, dp_policy)\n"
   ]
  },
  {
   "cell_type": "code",
   "execution_count": null,
   "id": "e335cd06-85b4-4c43-820e-e00251cb0be0",
   "metadata": {},
   "outputs": [],
   "source": [
    "\n",
    "# Generate Navigation GIF\n",
    "def generate_navigation_gif(env, policy, filename=\"navigation.gif\"):\n",
    "    \"\"\"Generates a GIF of the agent navigating the environment.\"\"\"\n",
    "    frames = []\n",
    "    state, _ = env.reset()\n",
    "    done = False\n",
    "\n",
    "    while not done:\n",
    "        action = policy[state]  # Select action\n",
    "        state, _, done, _, _ = env.step(action)\n",
    "        frame = env.render()\n",
    "        frames.append(frame)\n",
    "\n",
    "    imageio.mimsave(filename, frames, duration=0.5)\n",
    "    print(f\"\\nNavigation GIF saved as {filename}\")\n",
    "\n",
    "\n",
    "# Generate GIFs for both policies\n",
    "generate_navigation_gif(env, mc_policy, filename=\"mc_navigation.gif\")\n",
    "generate_navigation_gif(env, dp_policy, filename=\"dp_navigation.gif\")"
   ]
  },
  {
   "cell_type": "code",
   "execution_count": null,
   "id": "4cb31213-9474-4046-8e68-4d5515ee5355",
   "metadata": {},
   "outputs": [],
   "source": [
    "print(\"\\nTesting Monte Carlo Policy...\")\n",
    "test_policy(env, mc_policy)\n",
    "\n",
    "print(\"\\nTesting Dynamic Programming Policy...\")\n",
    "test_policy(env, dp_policy)"
   ]
  },
  {
   "cell_type": "code",
   "execution_count": null,
   "id": "f95d1f29-7744-4b26-b4b4-650013bca1b6",
   "metadata": {},
   "outputs": [],
   "source": [
    "#  Display Final Frame\n",
    "last_frame = env.render()\n",
    "plt.imshow(last_frame)\n",
    "plt.axis(\"off\")\n",
    "plt.show()"
   ]
  },
  {
   "cell_type": "code",
   "execution_count": null,
   "id": "8d878ba8-53ff-482c-b1a5-e863bea0aebd",
   "metadata": {},
   "outputs": [],
   "source": [
    "episode_returns = []\n",
    "for episode in range(num_episodes):\n",
    "    state, _ = env.reset()\n",
    "    done = False\n",
    "    episode_data = []\n",
    "    ep_return = 0  # Log reward for this episode\n",
    "\n",
    "    while not done:\n",
    "        action = np.random.choice(num_actions) if np.random.rand() < epsilon else np.argmax(Q[state])\n",
    "        next_state, reward, done, _, _ = env.step(action)\n",
    "        episode_data.append((state, action, reward))\n",
    "        ep_return += reward\n",
    "        state = next_state\n",
    "    episode_returns.append(ep_return)\n",
    "    # ... (rest of the Monte Carlo update)\n"
   ]
  },
  {
   "cell_type": "code",
   "execution_count": null,
   "id": "52b1082f-146d-40cd-82cc-615ee9cca39d",
   "metadata": {},
   "outputs": [],
   "source": [
    "import pandas as pd\n",
    "import matplotlib.pyplot as plt\n",
    "\n",
    "# Compute rolling average with a window size of 100 episodes\n",
    "rolling_avg = pd.Series(episode_returns).rolling(window=100).mean()\n",
    "plt.figure(figsize=(10, 5))\n",
    "plt.plot(rolling_avg)\n",
    "plt.title(\"Monte Carlo Training: Rolling Average Return\")\n",
    "plt.xlabel(\"Episode\")\n",
    "plt.ylabel(\"Average Total Return\")\n",
    "plt.show()\n"
   ]
  },
  {
   "cell_type": "code",
   "execution_count": null,
   "id": "abbc1286-3cb8-4d3a-a8bf-76892f842028",
   "metadata": {},
   "outputs": [],
   "source": [
    "deltas = []\n",
    "while True:\n",
    "    delta = 0\n",
    "    for s in range(num_states):\n",
    "        v = V[s]\n",
    "        a = policy[s]\n",
    "        V[s] = sum(prob * (reward + gamma * V[next_s])\n",
    "                   for prob, next_s, reward, _ in env.P[s][a])\n",
    "        delta = max(delta, abs(v - V[s]))\n",
    "    deltas.append(delta)\n",
    "    if delta < theta:\n",
    "        break\n",
    "\n",
    "# Plot the delta convergence\n",
    "plt.figure(figsize=(10, 5))\n",
    "plt.plot(deltas)\n",
    "plt.title(\"Policy Evaluation Convergence in Policy Iteration\")\n",
    "plt.xlabel(\"Iteration\")\n",
    "plt.ylabel(\"Max Change in Value (Delta)\")\n",
    "plt.show()\n"
   ]
  },
  {
   "cell_type": "code",
   "execution_count": null,
   "id": "79366766-c8cb-48e2-8507-ea425a32692c",
   "metadata": {},
   "outputs": [],
   "source": [
    "def evaluate_policy(env, policy, num_episodes=100):\n",
    "    rewards = []\n",
    "    for episode in range(num_episodes):\n",
    "        state, _ = env.reset()\n",
    "        done = False\n",
    "        ep_return = 0\n",
    "        while not done:\n",
    "            action = policy[state]\n",
    "            state, reward, done, _, _ = env.step(action)\n",
    "            ep_return += reward\n",
    "        rewards.append(ep_return)\n",
    "    return rewards\n",
    "\n",
    "mc_test_rewards = evaluate_policy(env, mc_policy, num_episodes=100)\n",
    "dp_test_rewards = evaluate_policy(env, dp_policy, num_episodes=100)\n",
    "\n",
    "plt.figure(figsize=(10, 5))\n",
    "plt.plot(mc_test_rewards, label=\"Monte Carlo\")\n",
    "plt.plot(dp_test_rewards, label=\"Dynamic Programming (Policy Iteration)\")\n",
    "plt.title(\"Test Episode Returns Comparison\")\n",
    "plt.xlabel(\"Test Episode\")\n",
    "plt.ylabel(\"Total Return\")\n",
    "plt.legend()\n",
    "plt.show()\n"
   ]
  },
  {
   "cell_type": "code",
   "execution_count": null,
   "id": "6357e58e-0b2c-4c7f-aa07-7756c52adae1",
   "metadata": {},
   "outputs": [],
   "source": []
  },
  {
   "cell_type": "code",
   "execution_count": null,
   "id": "8624efa7-4537-4329-af8b-485988c30957",
   "metadata": {},
   "outputs": [],
   "source": []
  }
 ],
 "metadata": {
  "kernelspec": {
   "display_name": "Python 3 (ipykernel)",
   "language": "python",
   "name": "python3"
  },
  "language_info": {
   "codemirror_mode": {
    "name": "ipython",
    "version": 3
   },
   "file_extension": ".py",
   "mimetype": "text/x-python",
   "name": "python",
   "nbconvert_exporter": "python",
   "pygments_lexer": "ipython3",
   "version": "3.12.2"
  }
 },
 "nbformat": 4,
 "nbformat_minor": 5
}
